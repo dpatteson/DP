{
  "cells": [
    {
      "cell_type": "markdown",
      "metadata": {
        "id": "O7XAAe86Ej7J"
      },
      "source": [
        "## Pandas Profiling: NASA Meteorites example\n",
        "Source of data: https://data.nasa.gov/Space-Science/Meteorite-Landings/gh4g-9sfh"
      ]
    },
    {
      "cell_type": "markdown",
      "metadata": {
        "id": "2opnUI6dEj7M"
      },
      "source": [
        "The autoreload instruction reloads modules automatically before code execution, which is helpful for the update below."
      ]
    },
    {
      "cell_type": "code",
      "execution_count": null,
      "metadata": {
        "id": "2nnoMJq0Ej7M"
      },
      "outputs": [],
      "source": [
        "%load_ext autoreload\n",
        "%autoreload 2"
      ]
    },
    {
      "cell_type": "markdown",
      "metadata": {
        "id": "AkvREsEDEj7O"
      },
      "source": [
        "Make sure that we have the latest version of pandas-profiling."
      ]
    },
    {
      "cell_type": "code",
      "execution_count": null,
      "metadata": {
        "id": "4i__uhvwEj7O"
      },
      "outputs": [],
      "source": [
        "import sys\n",
        "\n",
        "!{sys.executable} -m pip install -U pandas-profiling[notebook]\n",
        "!jupyter nbextension enable --py widgetsnbextension"
      ]
    },
    {
      "cell_type": "markdown",
      "metadata": {
        "id": "ko37LsZkEj7O"
      },
      "source": [
        "You might want to restart the kernel now."
      ]
    },
    {
      "cell_type": "markdown",
      "metadata": {
        "id": "nBFl82B2Ej7O"
      },
      "source": [
        "### Import libraries"
      ]
    },
    {
      "cell_type": "code",
      "execution_count": null,
      "metadata": {
        "id": "DPZWRyUREj7P"
      },
      "outputs": [],
      "source": [
        "from pathlib import Path\n",
        "\n",
        "import numpy as np\n",
        "import pandas as pd\n",
        "import requests\n",
        "\n",
        "import ydata_profiling\n",
        "from ydata_profiling.utils.cache import cache_file"
      ]
    },
    {
      "cell_type": "markdown",
      "metadata": {
        "id": "7cNbRq3LEj7P"
      },
      "source": [
        "### Load and prepare example dataset\n",
        "We add some fake variables for illustrating pandas-profiling capabilities"
      ]
    },
    {
      "cell_type": "code",
      "execution_count": null,
      "metadata": {
        "id": "b5KzKdZOEj7P"
      },
      "outputs": [],
      "source": [
        "file_name = cache_file(\n",
        "    \"meteorites.csv\",\n",
        "    \"https://data.nasa.gov/api/views/gh4g-9sfh/rows.csv?accessType=DOWNLOAD\",\n",
        ")\n",
        "\n",
        "df = pd.read_csv(file_name)\n",
        "\n",
        "# Note: Pandas does not support dates before 1880, so we ignore these for this analysis\n",
        "df[\"year\"] = pd.to_datetime(df[\"year\"], errors=\"coerce\")\n",
        "\n",
        "# Example: Constant variable\n",
        "df[\"source\"] = \"NASA\"\n",
        "\n",
        "# Example: Boolean variable\n",
        "df[\"boolean\"] = np.random.choice([True, False], df.shape[0])\n",
        "\n",
        "# Example: Mixed with base types\n",
        "df[\"mixed\"] = np.random.choice([1, \"A\"], df.shape[0])\n",
        "\n",
        "# Example: Highly correlated variables\n",
        "df[\"reclat_city\"] = df[\"reclat\"] + np.random.normal(scale=5, size=(len(df)))\n",
        "\n",
        "# Example: Duplicate observations\n",
        "duplicates_to_add = pd.DataFrame(df.iloc[0:10])\n",
        "duplicates_to_add[\"name\"] = duplicates_to_add[\"name\"] + \" copy\"\n",
        "\n",
        "df = pd.concat([df, duplicates_to_add], ignore_index=True)"
      ]
    },
    {
      "cell_type": "markdown",
      "metadata": {
        "id": "CISZoj81Ej7Q"
      },
      "source": [
        "### Inline report without saving object"
      ]
    },
    {
      "cell_type": "code",
      "execution_count": null,
      "metadata": {
        "id": "neRYJv6DEj7Q"
      },
      "outputs": [],
      "source": [
        "report = df.profile_report(\n",
        "    sort=None, html={\"style\": {\"full_width\": True}}, progress_bar=False\n",
        ")\n",
        "report"
      ]
    },
    {
      "cell_type": "markdown",
      "metadata": {
        "id": "6WjrDqXpEj7Q"
      },
      "source": [
        "### Save report to file"
      ]
    },
    {
      "cell_type": "code",
      "execution_count": null,
      "metadata": {
        "id": "EXPgZt6OEj7Q"
      },
      "outputs": [],
      "source": [
        "profile_report = df.profile_report(html={\"style\": {\"full_width\": True}})\n",
        "profile_report.to_file(\"/tmp/example.html\")"
      ]
    },
    {
      "cell_type": "markdown",
      "metadata": {
        "id": "c1BBXoBpEj7Q"
      },
      "source": [
        "### More analysis (Unicode) and Print existing ProfileReport object inline"
      ]
    },
    {
      "cell_type": "code",
      "execution_count": null,
      "metadata": {
        "id": "vpykCC_xEj7Q"
      },
      "outputs": [],
      "source": [
        "profile_report = df.profile_report(\n",
        "    explorative=True, html={\"style\": {\"full_width\": True}}\n",
        ")\n",
        "profile_report"
      ]
    },
    {
      "cell_type": "markdown",
      "metadata": {
        "id": "_xlvNWo0Ej7R"
      },
      "source": [
        "### Notebook Widgets"
      ]
    },
    {
      "cell_type": "code",
      "execution_count": null,
      "metadata": {
        "id": "L4dIVmalEj7R"
      },
      "outputs": [],
      "source": [
        "profile_report.to_widgets()"
      ]
    }
  ],
  "metadata": {
    "kernelspec": {
      "display_name": "Python 3 (ipykernel)",
      "language": "python",
      "name": "python3"
    },
    "language_info": {
      "codemirror_mode": {
        "name": "ipython",
        "version": 3
      },
      "file_extension": ".py",
      "mimetype": "text/x-python",
      "name": "python",
      "nbconvert_exporter": "python",
      "pygments_lexer": "ipython3",
      "version": "3.7.4"
    },
    "colab": {
      "provenance": []
    }
  },
  "nbformat": 4,
  "nbformat_minor": 0
}